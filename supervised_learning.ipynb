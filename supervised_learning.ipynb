{
 "cells": [
  {
   "cell_type": "code",
   "execution_count": 1,
   "id": "e63161b6-aaa0-481e-b396-0f133a8cc7ac",
   "metadata": {
    "pycharm": {
     "name": "#%%\n"
    }
   },
   "outputs": [],
   "source": [
    "from itertools import cycle\n",
    "import numpy as np\n",
    "import random\n",
    "from sklearn import naive_bayes\n",
    "from sklearn import datasets\n",
    "from sklearn.tree import DecisionTreeClassifier\n",
    "from sklearn.model_selection import cross_val_score\n",
    "from sklearn.model_selection import train_test_split\n",
    "from collections import Counter\n",
    "import pylab as pl"
   ]
  },
  {
   "cell_type": "code",
   "execution_count": 2,
   "id": "2e212763-e982-4f98-a0f0-2e6371239de2",
   "metadata": {
    "pycharm": {
     "name": "#%%\n"
    }
   },
   "outputs": [],
   "source": [
    "def plot_2D(data, target, target_names):\n",
    "    colors = cycle('rgbcmykw') # cycle de couleurs\n",
    "    target_ids = range(len(target_names))\n",
    "    pl.figure()\n",
    "    for i, c, label in zip(target_ids, colors, target_names):\n",
    "        pl.scatter(data[target == i, 2], data[target == i, 3], c=c, label=label)\n",
    "    pl.legend()\n",
    "    pl.show()"
   ]
  },
  {
   "cell_type": "markdown",
   "id": "6f1eef50-50a4-4464-898b-dc77b8a97f5c",
   "metadata": {
    "pycharm": {
     "name": "#%% md\n"
    }
   },
   "source": [
    "# Dataset Iris\n",
    "We'll be using different supervised learning algorithms on this dataset and evalute their performances. It contains the caracteristics of 3 types of iris flowers and we want to build a model that classifies new entries."
   ]
  },
  {
   "cell_type": "code",
   "execution_count": null,
   "id": "8f847461-5ba3-440d-899a-32ed4efda72f",
   "metadata": {
    "pycharm": {
     "name": "#%%\n",
     "is_executing": true
    }
   },
   "outputs": [],
   "source": [
    "irisData = datasets.load_iris()\n",
    "print(irisData.data)\n",
    "print(irisData.target)"
   ]
  },
  {
   "cell_type": "code",
   "execution_count": 4,
   "id": "8a724d85-544b-4cbd-bd95-62bd69d34cdf",
   "metadata": {
    "pycharm": {
     "name": "#%%\n"
    }
   },
   "outputs": [
    {
     "name": "stdout",
     "output_type": "stream",
     "text": [
      "['setosa' 'versicolor' 'virginica']\n",
      "['sepal length (cm)', 'sepal width (cm)', 'petal length (cm)', 'petal width (cm)']\n"
     ]
    }
   ],
   "source": [
    "print(irisData.target_names)\n",
    "print(irisData.feature_names)"
   ]
  },
  {
   "cell_type": "code",
   "execution_count": 5,
   "id": "8f81efda-1622-40c3-86f9-03cea3462ad5",
   "metadata": {
    "pycharm": {
     "name": "#%%\n"
    }
   },
   "outputs": [
    {
     "name": "stdout",
     "output_type": "stream",
     "text": [
      "Number of occurences of setosa is 50\n",
      "Number of occurences of versicolor is 50\n",
      "Number of occurences of virginica is 50\n"
     ]
    }
   ],
   "source": [
    "occur = Counter(irisData.target)\n",
    "for i in [0, 1, 2]:\n",
    "    print(\"Number of occurences of \" + irisData.target_names[i] + \" is \" + str(occur.get(i)))"
   ]
  },
  {
   "cell_type": "code",
   "execution_count": 6,
   "id": "1e84b723-97ea-4e9f-933a-7e3759b95f7e",
   "metadata": {
    "pycharm": {
     "name": "#%%\n"
    }
   },
   "outputs": [
    {
     "name": "stdout",
     "output_type": "stream",
     "text": [
      "32th element of dataset:\n",
      "sepal length (cm): 5.4\n",
      "sepal width (cm): 3.4\n",
      "petal length (cm): 1.5\n",
      "petal width (cm): 0.4\n",
      "Class: setosa\n"
     ]
    }
   ],
   "source": [
    "print(\"32th element of dataset:\")\n",
    "for i in range(0, len(irisData.feature_names)):\n",
    "    print(irisData.feature_names[i] + \": \" + str(irisData.data[31][i]))\n",
    "print(\"Class: \" + irisData.target_names[irisData.target[31]])"
   ]
  },
  {
   "cell_type": "code",
   "execution_count": 7,
   "id": "3c97fb66-5522-400c-9943-da6315e13091",
   "metadata": {
    "pycharm": {
     "name": "#%%\n"
    }
   },
   "outputs": [
    {
     "data": {
      "image/png": "[encoded data removed]",
      "text/plain": [
       "<Figure size 432x288 with 1 Axes>"
      ]
     },
     "metadata": {
      "needs_background": "light"
     },
     "output_type": "display_data"
    }
   ],
   "source": [
    "plot_2D(irisData.data, irisData.target, irisData.target_names)"
   ]
  },
  {
   "cell_type": "markdown",
   "id": "d7b0f9a0-40ec-4cf5-8764-51da00ec1eb7",
   "metadata": {
    "pycharm": {
     "name": "#%% md\n"
    }
   },
   "source": [
    "# Naïve Bayes algorithm"
   ]
  },
  {
   "cell_type": "code",
   "execution_count": 8,
   "id": "b75ac9bb-88ff-4521-b1bd-e029faad7eea",
   "metadata": {
    "pycharm": {
     "name": "#%%\n"
    }
   },
   "outputs": [
    {
     "name": "stdout",
     "output_type": "stream",
     "text": [
      "[0]\n",
      "[2]\n",
      "[0 0 0 0 0 0 0 0 0 0 0 0 0 0 0 0 0 0 0 0 0 0 0 0 0 0 0 0 0 0 0 0 0 0 0 0 0\n",
      " 0 0 0 0 0 0 0 0 0 0 0 0 0 1 1 1 1 1 1 1 1 1 1 1 1 1 1 1 1 1 1 1 1 1 1 1 1\n",
      " 1 1 1 1 1 1 1 1 1 2 1 1 1 1 1 1 1 1 1 1 1 1 1 1 1 1 2 2 2 2 2 2 2 2 2 2 2\n",
      " 2 2 2 2 2 2 2 2 2 2 2 2 2 2 1 2 2 2 1 2 1 2 1 2 2 2 2 2 2 2 2 2 2 2 2 2 2\n",
      " 2 2]\n"
     ]
    }
   ],
   "source": [
    "nb = naive_bayes.MultinomialNB(fit_prior=True) \n",
    "nb.fit(irisData.data[:-1], irisData.target[:-1])\n",
    "#predicting some values\n",
    "p31 = nb.predict([irisData.data[31]])\n",
    "print(p31)\n",
    "plast = nb.predict([irisData.data[-1]])\n",
    "print(plast)\n",
    "p = nb.predict(irisData.data[:])\n",
    "print(p)"
   ]
  },
  {
   "cell_type": "markdown",
   "id": "2ee7aecc-93fc-4164-b7ad-dfbca98b73a9",
   "metadata": {
    "pycharm": {
     "name": "#%% md\n"
    }
   },
   "source": [
    "### Training without split"
   ]
  },
  {
   "cell_type": "code",
   "execution_count": 9,
   "id": "0dfb090e-b9c4-4674-a406-339c1d536442",
   "metadata": {
    "pycharm": {
     "name": "#%%\n"
    }
   },
   "outputs": [
    {
     "name": "stdout",
     "output_type": "stream",
     "text": [
      "Errors:\n",
      "Method 1: 0.04666666666666667\n",
      "Method 2: 0.04666666666666667\n",
      "Method 3: 0.046666666666666634\n"
     ]
    }
   ],
   "source": [
    "nb = naive_bayes.MultinomialNB(fit_prior=True)\n",
    "irisData = datasets.load_iris()\n",
    "nb.fit(irisData.data[:], irisData.target[:])\n",
    "predictions = nb.predict(irisData.data[:])\n",
    "erreur = 0\n",
    "print(\"Errors:\")\n",
    "for i in range(len(irisData.target)):\n",
    "    if (predictions[i] != irisData.target[i]):\n",
    "        erreur = erreur + 1\n",
    "print(\"Method 1: \" + str(erreur / len(irisData.data)))\n",
    "\n",
    "# method 2 with P-Y\n",
    "print(\"Method 2: \" + str(np.count_nonzero(predictions - irisData.target) / len(irisData.data)))\n",
    "\n",
    "# method 3 with .score()\n",
    "print(\"Method 3: \" + str(1 - nb.score(irisData.data, irisData.target)))"
   ]
  },
  {
   "cell_type": "markdown",
   "id": "6c7339f6-1fa0-4ad8-a7dd-2668aabaa22b",
   "metadata": {
    "pycharm": {
     "name": "#%% md\n"
    }
   },
   "source": [
    "### Training with split"
   ]
  },
  {
   "cell_type": "code",
   "execution_count": 10,
   "id": "eb99c126-cf1e-46ff-8970-92e01c0b8397",
   "metadata": {
    "pycharm": {
     "name": "#%%\n"
    }
   },
   "outputs": [],
   "source": [
    "def split(S):\n",
    "    cdata=list(zip(S.data,S.target))\n",
    "    random.shuffle(cdata)\n",
    "    dataS,targetS=zip(*cdata)\n",
    "    dataS1=list(dataS[:100])\n",
    "    dataS2=list(dataS[100:])\n",
    "    targetS1=list(targetS[:100])\n",
    "    targetS2=list(targetS[100:])\n",
    "    return [dataS1, targetS1, dataS2, targetS2]"
   ]
  },
  {
   "cell_type": "code",
   "execution_count": 11,
   "id": "7435dee6-f7d7-451f-bd32-e6594e229519",
   "metadata": {
    "pycharm": {
     "name": "#%%\n"
    }
   },
   "outputs": [
    {
     "name": "stdout",
     "output_type": "stream",
     "text": [
      "Error with split:\n",
      "28.000000000000004\n"
     ]
    }
   ],
   "source": [
    "def training_split(S, clf):\n",
    "    dt=split(S)\n",
    "    clf.fit(dt[0][:], dt[1][:])\n",
    "    predictions = clf.predict(dt[2][:])\n",
    "    return np.count_nonzero(predictions - dt[3]) / len(dt[2])*100\n",
    "\n",
    "print(\"Error with split:\")\n",
    "print(training_split(irisData,nb))"
   ]
  },
  {
   "cell_type": "code",
   "execution_count": null,
   "id": "5c28fd1d-b028-42f0-92a8-f0f61a293241",
   "metadata": {
    "pycharm": {
     "name": "#%%\n",
     "is_executing": true
    }
   },
   "outputs": [],
   "source": [
    "print(\"Average Error for:\")\n",
    "for t in [10, 50, 100, 200, 500, 1000]:\n",
    "    for j in range(0, 20):\n",
    "        moyenne = 0\n",
    "        for i in range(0, t):\n",
    "            moyenne += training_split(irisData, nb)\n",
    "        moyenne /= t\n",
    "        print(\"t = \" + str(t) + \", repetition \" + str(j + 1) + \" : \" + str(moyenne) + \"%\")"
   ]
  },
  {
   "cell_type": "code",
   "execution_count": null,
   "id": "91d9b5d5-0c03-4e99-b4e3-5c4eb3099887",
   "metadata": {
    "pycharm": {
     "name": "#%%\n",
     "is_executing": true
    }
   },
   "outputs": [],
   "source": [
    "for size in [0.1,0.25,0.33,0.5]:\n",
    "    for i in range(0,1000):\n",
    "        dataS1,dataS2,targetS1,targetS2=train_test_split(irisData.data,irisData.target,test_size=size,shuffle=True)\n",
    "        nb.fit(dataS1[:],targetS1[:])\n",
    "        predictions = nb.predict(dataS2[:])\n",
    "        print(\"test_size = \" + str(size) + \", repetition \" +str(i+1)+\" : \"+ str(np.count_nonzero(predictions - targetS2) / len(dataS2)*100)+\"%\")\n"
   ]
  },
  {
   "cell_type": "markdown",
   "id": "dccf04d8-8ca8-493d-bc7b-e9a2a259c600",
   "metadata": {
    "pycharm": {
     "name": "#%% md\n"
    }
   },
   "source": [
    "### Cross Validation"
   ]
  },
  {
   "cell_type": "code",
   "execution_count": 14,
   "id": "c4818247-7a6b-4e76-a31e-278c62f4ebdb",
   "metadata": {
    "pycharm": {
     "name": "#%%\n"
    }
   },
   "outputs": [
    {
     "name": "stdout",
     "output_type": "stream",
     "text": [
      "Cross Validation with 2 folds:\n",
      "[0.04       0.05333333]\n",
      "average: 0.04666666666666669\n",
      "\n",
      "Cross Validation with 3 folds:\n",
      "[0.04 0.08 0.04]\n",
      "average: 0.053333333333333344\n",
      "\n",
      "Cross Validation with 5 folds:\n",
      "[0.         0.03333333 0.1        0.1        0.        ]\n",
      "average: 0.046666666666666655\n",
      "\n",
      "Cross Validation with 8 folds:\n",
      "[0.         0.         0.05263158 0.10526316 0.10526316 0.15789474\n",
      " 0.         0.        ]\n",
      "average: 0.05263157894736843\n",
      "\n",
      "Cross Validation with 10 folds:\n",
      "[0.         0.         0.         0.06666667 0.13333333 0.06666667\n",
      " 0.2        0.         0.         0.        ]\n",
      "average: 0.046666666666666655\n",
      "\n"
     ]
    }
   ],
   "source": [
    "nb.fit(irisData.data[:], irisData.target[:])\n",
    "predictions = nb.predict(irisData.data[:])\n",
    "for fold in [2, 3, 5, 8, 10]:\n",
    "    cross =1 - cross_val_score(nb, irisData.data, irisData.target, cv=fold)\n",
    "    print(\"Cross Validation with \" + str(fold) + \" folds:\")\n",
    "    print(cross)\n",
    "    print(\"average: \" + str(cross.mean()))\n",
    "    print()\n",
    "\n"
   ]
  },
  {
   "cell_type": "markdown",
   "id": "3659cdf8-f4ae-43d9-b184-b1103857012f",
   "metadata": {
    "pycharm": {
     "name": "#%% md\n"
    }
   },
   "source": [
    "# Decision Tree"
   ]
  },
  {
   "cell_type": "code",
   "execution_count": null,
   "id": "794032bc-5ac6-442f-a48b-7f8435f75843",
   "metadata": {
    "pycharm": {
     "name": "#%%\n",
     "is_executing": true
    }
   },
   "outputs": [],
   "source": [
    "dt = DecisionTreeClassifier()\n",
    "dt.fit(irisData.data[:], irisData.target[:])\n",
    "predictions = dt.predict(irisData.data[:])\n",
    "\n",
    "print(\"Average Error for:\")\n",
    "for t in [10, 50, 100, 200, 500, 1000]:\n",
    "    for j in range(0, 20):\n",
    "        moyenne = 0\n",
    "        for i in range(0, t):\n",
    "            moyenne += training_split(irisData, dt)\n",
    "        moyenne /= t\n",
    "        print(\"t = \" + str(t) + \", repetition \" + str(j + 1) + \" : \" + str(moyenne) + \"%\")"
   ]
  },
  {
   "cell_type": "code",
   "execution_count": null,
   "id": "87c69c0d-5fc8-4106-b194-223e98434276",
   "metadata": {
    "pycharm": {
     "name": "#%%\n"
    }
   },
   "outputs": [],
   "source": []
  }
 ],
 "metadata": {
  "kernelspec": {
   "display_name": "Python 3 (ipykernel)",
   "language": "python",
   "name": "python3"
  },
  "language_info": {
   "codemirror_mode": {
    "name": "ipython",
    "version": 3
   },
   "file_extension": ".py",
   "mimetype": "text/x-python",
   "name": "python",
   "nbconvert_exporter": "python",
   "pygments_lexer": "ipython3",
   "version": "3.9.7"
  }
 },
 "nbformat": 4,
 "nbformat_minor": 5
}